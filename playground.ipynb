{
 "cells": [
  {
   "cell_type": "code",
   "execution_count": 42,
   "metadata": {},
   "outputs": [],
   "source": [
    "import pickle\n",
    "import numpy as np\n",
    "import torch\n",
    "file_path = '/Users/mtcd/@codes/DC3-main-adapted/datasets/nonlinear/random_nonlinear_dataset_ex30'\n",
    "\n",
    "with open(file_path, 'rb') as f:\n",
    "    data = pickle.load(f)   \n",
    "    \n",
    "    "
   ]
  },
  {
   "cell_type": "code",
   "execution_count": 43,
   "metadata": {},
   "outputs": [
    {
     "data": {
      "text/plain": [
       "tensor([[1.1787, 2.1223],\n",
       "        [0.7661, 0.2716],\n",
       "        [3.1479, 2.6253],\n",
       "        [2.5501, 2.3024],\n",
       "        [0.1563, 1.4313],\n",
       "        [3.7827, 0.2402],\n",
       "        [3.4562, 3.5092],\n",
       "        [0.2048, 2.6097],\n",
       "        [2.2070, 2.3901],\n",
       "        [1.9341, 1.1320],\n",
       "        [1.1909, 2.2460],\n",
       "        [1.5842, 3.1548],\n",
       "        [1.6739, 0.5756],\n",
       "        [0.6036, 0.2210],\n",
       "        [2.8721, 1.1693],\n",
       "        [0.7951, 3.3255],\n",
       "        [2.2720, 0.3294],\n",
       "        [2.1800, 0.6358],\n",
       "        [2.7070, 0.4739],\n",
       "        [1.7800, 3.5519],\n",
       "        [3.1891, 0.2719],\n",
       "        [3.8432, 2.6368],\n",
       "        [2.8751, 2.9743],\n",
       "        [3.5509, 0.5358],\n",
       "        [3.1079, 3.3520]])"
      ]
     },
     "execution_count": 43,
     "metadata": {},
     "output_type": "execute_result"
    }
   ],
   "source": [
    "data.trainX\n"
   ]
  },
  {
   "cell_type": "code",
   "execution_count": 44,
   "metadata": {},
   "outputs": [
    {
     "data": {
      "text/plain": [
       "tensor([ 5.0816,  4.2420,  9.4734,  6.5592,  4.9659, 59.2157, 10.0425,  5.8167,\n",
       "         5.5308,  6.1171,  5.3623,  8.2492,  6.4735,  4.2455, 15.8336,  9.1328,\n",
       "        14.1916, 10.5904, 20.4141, 10.1972, 35.9304, 17.6762,  7.5443, 42.7897,\n",
       "         8.6284])"
      ]
     },
     "execution_count": 44,
     "metadata": {},
     "output_type": "execute_result"
    }
   ],
   "source": [
    "data.obj_fn(data.trainX)"
   ]
  },
  {
   "cell_type": "code",
   "execution_count": 45,
   "metadata": {},
   "outputs": [
    {
     "data": {
      "text/plain": [
       "tensor([[ 1.6680],\n",
       "        [ 0.0000],\n",
       "        [ 8.6552],\n",
       "        [ 5.7025],\n",
       "        [ 0.0304],\n",
       "        [10.2462],\n",
       "        [11.5374],\n",
       "        [ 1.2340],\n",
       "        [ 4.5812],\n",
       "        [ 2.6259],\n",
       "        [ 1.8249],\n",
       "        [ 3.8704],\n",
       "        [ 1.6844],\n",
       "        [ 0.0000],\n",
       "        [ 6.0287],\n",
       "        [ 2.7388],\n",
       "        [ 3.3985],\n",
       "        [ 3.1654],\n",
       "        [ 5.0522],\n",
       "        [ 5.0303],\n",
       "        [ 7.1461],\n",
       "        [12.3156],\n",
       "        [ 7.9113],\n",
       "        [ 9.0287],\n",
       "        [ 9.5532]])"
      ]
     },
     "execution_count": 45,
     "metadata": {},
     "output_type": "execute_result"
    }
   ],
   "source": [
    "data.ineq_dist(data.trainX,0)"
   ]
  },
  {
   "cell_type": "code",
   "execution_count": 49,
   "metadata": {},
   "outputs": [],
   "source": [
    "results_non_compl = [[ 4.7959e-01,  7.7648e-01],\n",
    "        [ 5.1282e-01,  5.0120e-01],\n",
    "        [-2.6602e+01,  2.3353e+01],\n",
    "        [-3.0634e+01,  2.8261e+01],\n",
    "        [ 2.0380e-01,  3.1124e-01],\n",
    "        [ 1.6028e-01,  1.8688e-01],\n",
    "        [-5.3553e-02,  1.4685e-01],\n",
    "        [-1.2492e+01,  1.1212e+01],\n",
    "        [-1.1247e+02,  9.6038e+01],\n",
    "        [ 7.5974e-02,  2.5417e-01],\n",
    "        [-1.8367e+00,  3.7427e+00],\n",
    "        [-4.2329e+00,  5.4248e+00],\n",
    "        [ 1.2940e+00, -4.2653e-01],\n",
    "        [-5.3638e+00,  4.8913e+00],\n",
    "        [ 1.5253e+00,  1.3596e+00],\n",
    "        [-3.2504e+01,  2.9006e+01],\n",
    "        [-6.6472e+01,  5.8607e+01],\n",
    "        [ 1.3215e+00,  1.5125e-01],\n",
    "        [ 1.3777e-01,  2.8755e-01],\n",
    "        [-1.3302e+02,  1.1833e+02],\n",
    "        [-2.2598e+00,  3.2739e+00],\n",
    "        [ 9.8829e-01,  2.1544e-01],\n",
    "        [-3.3180e-01,  4.0966e-01],\n",
    "        [ 1.7294e+00,  1.8248e-01],\n",
    "        [ 8.7343e-01, -5.2234e-03]]\n",
    "\n",
    "\n",
    "results_with_compl = [[-0.3679,  0.8688],\n",
    "        [-0.3601,  0.8699],\n",
    "        [-1.1348,  0.6089],\n",
    "        [-1.6424,  0.0000],\n",
    "        [ 0.3459,  0.8719],\n",
    "        [ 0.3177,  0.8754],\n",
    "        [-0.2248,  0.8850],\n",
    "        [ 1.2360,  0.5392],\n",
    "        [-0.9771,  0.6941],\n",
    "        [-0.7260,  0.7901],\n",
    "        [-0.7921,  0.7687],\n",
    "        [-1.0932,  0.6337],\n",
    "        [-0.1628,  0.8895],\n",
    "        [-0.5679,  0.8322],\n",
    "        [ 0.6896,  0.8009],\n",
    "        [-0.4986,  0.8468],\n",
    "        [-1.8308,  0.0000],\n",
    "        [-0.1451,  0.8905],\n",
    "        [-0.2754,  0.8802],\n",
    "        [-0.6375,  0.8152],\n",
    "        [ 0.5611,  0.8337],\n",
    "        [ 0.1633,  0.8894],\n",
    "        [-0.7482,  0.7832],\n",
    "        [-0.8852,  0.7340],\n",
    "        [-2.3565,  0.0000]]"
   ]
  },
  {
   "cell_type": "code",
   "execution_count": 50,
   "metadata": {},
   "outputs": [
    {
     "name": "stdout",
     "output_type": "stream",
     "text": [
      "[-0.3679, 0.8688]\n",
      "Resultado:  tensor([5.3085])\n",
      "--\n",
      "[-0.3601, 0.8699]\n",
      "Resultado:  tensor([5.3051])\n",
      "--\n",
      "[-1.1348, 0.6089]\n",
      "Resultado:  tensor([5.1070])\n",
      "--\n",
      "[-1.6424, 0.0]\n",
      "Resultado:  tensor([6.5519])\n",
      "--\n",
      "[0.3459, 0.8719]\n",
      "Resultado:  tensor([4.5235])\n",
      "--\n",
      "[0.3177, 0.8754]\n",
      "Resultado:  tensor([4.5643])\n",
      "--\n",
      "[-0.2248, 0.885]\n",
      "Resultado:  tensor([5.2233])\n",
      "--\n",
      "[1.236, 0.5392]\n",
      "Resultado:  tensor([4.6558])\n",
      "--\n",
      "[-0.9771, 0.6941]\n",
      "Resultado:  tensor([5.1800])\n",
      "--\n",
      "[-0.726, 0.7901]\n",
      "Resultado:  tensor([5.3103])\n",
      "--\n",
      "[-0.7921, 0.7687]\n",
      "Resultado:  tensor([5.2820])\n",
      "--\n",
      "[-1.0932, 0.6337]\n",
      "Resultado:  tensor([5.1214])\n",
      "--\n",
      "[-0.1628, 0.8895]\n",
      "Resultado:  tensor([5.1718])\n",
      "--\n",
      "[-0.5679, 0.8322]\n",
      "Resultado:  tensor([5.3451])\n",
      "--\n",
      "[0.6896, 0.8009]\n",
      "Resultado:  tensor([4.1049])\n",
      "--\n",
      "[-0.4986, 0.8468]\n",
      "Resultado:  tensor([5.3433])\n",
      "--\n",
      "[-1.8308, 0.0]\n",
      "Resultado:  tensor([5.8769])\n",
      "--\n",
      "[-0.1451, 0.8905]\n",
      "Resultado:  tensor([5.1556])\n",
      "--\n",
      "[-0.2754, 0.8802]\n",
      "Resultado:  tensor([5.2589])\n",
      "--\n",
      "[-0.6375, 0.8152]\n",
      "Resultado:  tensor([5.3361])\n",
      "--\n",
      "[0.5611, 0.8337]\n",
      "Resultado:  tensor([4.2343])\n",
      "--\n",
      "[0.1633, 0.8894]\n",
      "Resultado:  tensor([4.7862])\n",
      "--\n",
      "[-0.7482, 0.7832]\n",
      "Resultado:  tensor([5.3015])\n",
      "--\n",
      "[-0.8852, 0.734]\n",
      "Resultado:  tensor([5.2332])\n",
      "--\n",
      "[-2.3565, 0.0]\n",
      "Resultado:  tensor([2.1802])\n",
      "--\n"
     ]
    }
   ],
   "source": [
    "\n",
    "for i in results_with_compl:\n",
    "    #print('Resultado: ', data.obj_fn(i))\n",
    "    j = torch.tensor([i])\n",
    "    print(i)\n",
    "    print('Resultado: ', data.obj_fn(j))\n",
    "    print('--')\n",
    "    \n",
    "\n"
   ]
  },
  {
   "cell_type": "code",
   "execution_count": 8,
   "metadata": {},
   "outputs": [],
   "source": [
    "import pickle\n",
    "import numpy as np\n",
    "import torch\n",
    "file_path = '/Users/mtcd/@codes/DC3-main-adapted/datasets/nonlinear/random_nonlinear_dataset_ex30'\n",
    "\n",
    "with open(file_path, 'rb') as f:\n",
    "    data = pickle.load(f)   \n",
    "    \n",
    "    "
   ]
  },
  {
   "cell_type": "code",
   "execution_count": 10,
   "metadata": {},
   "outputs": [
    {
     "data": {
      "text/plain": [
       "tensor([[1.1787, 2.1223],\n",
       "        [0.7661, 0.2716],\n",
       "        [3.1479, 2.6253],\n",
       "        [2.5501, 2.3024],\n",
       "        [0.1563, 1.4313],\n",
       "        [3.7827, 0.2402],\n",
       "        [3.4562, 3.5092],\n",
       "        [0.2048, 2.6097],\n",
       "        [2.2070, 2.3901],\n",
       "        [1.9341, 1.1320],\n",
       "        [1.1909, 2.2460],\n",
       "        [1.5842, 3.1548],\n",
       "        [1.6739, 0.5756],\n",
       "        [0.6036, 0.2210],\n",
       "        [2.8721, 1.1693],\n",
       "        [0.7951, 3.3255],\n",
       "        [2.2720, 0.3294],\n",
       "        [2.1800, 0.6358],\n",
       "        [2.7070, 0.4739],\n",
       "        [1.7800, 3.5519],\n",
       "        [3.1891, 0.2719],\n",
       "        [3.8432, 2.6368],\n",
       "        [2.8751, 2.9743],\n",
       "        [3.5509, 0.5358],\n",
       "        [3.1079, 3.3520]])"
      ]
     },
     "execution_count": 10,
     "metadata": {},
     "output_type": "execute_result"
    }
   ],
   "source": [
    "data.trainX"
   ]
  },
  {
   "cell_type": "code",
   "execution_count": 4,
   "metadata": {},
   "outputs": [
    {
     "name": "stdout",
     "output_type": "stream",
     "text": [
      "Valor ótimo encontrado: [0.85835339 0.74458702]\n",
      "Valor da função objetivo no ótimo: 4.0311732480156275\n"
     ]
    }
   ],
   "source": [
    "import numpy as np\n",
    "from scipy.optimize import minimize\n",
    "\n",
    "# Definindo a função objetivo\n",
    "def obj_fn(x):\n",
    "    x1 = x[0]\n",
    "    x2 = x[1]\n",
    "    return x1 * ((x1 - x2) ** 2 + (x1 - 2)) + 5\n",
    "\n",
    "# Restrição de igualdade\n",
    "def eq_resid(x):\n",
    "    x1 = x[0]\n",
    "    x2 = x[1]\n",
    "    return 0.5 * x1**2 + 1.5 * x2**2 - 1.2\n",
    "\n",
    "# Restrição de desigualdade\n",
    "def ineq_resid(x):\n",
    "    x1 = x[0]\n",
    "    x2 = x[1]\n",
    "    return 0.75 * x1**2 + 0.25 * x2**2 - 0.5\n",
    "\n",
    "# Definindo as restrições no formato esperado pelo `minimize`\n",
    "constraints = [\n",
    "    # Restrição de igualdade (deve ser igual a 0)\n",
    "    {'type': 'eq', 'fun': eq_resid},\n",
    "    \n",
    "    # Restrição de desigualdade (deve ser menor ou igual a 0)\n",
    "    {'type': 'ineq', 'fun': ineq_resid}\n",
    "]\n",
    "\n",
    "# Palpite inicial para as variáveis de decisão (x1, x2)\n",
    "x0 = np.array([2.4, 0.3])\n",
    "\n",
    "# Resolvendo o problema de otimização\n",
    "result = minimize(obj_fn, x0, constraints=constraints, method='SLSQP')\n",
    "\n",
    "# Verificando o resultado\n",
    "if result.success:\n",
    "    print(f\"Valor ótimo encontrado: {result.x}\")\n",
    "    print(f\"Valor da função objetivo no ótimo: {result.fun}\")\n",
    "else:\n",
    "    print(\"A otimização não convergiu:\", result.message)\n"
   ]
  },
  {
   "cell_type": "code",
   "execution_count": null,
   "metadata": {},
   "outputs": [],
   "source": []
  }
 ],
 "metadata": {
  "kernelspec": {
   "display_name": ".venv",
   "language": "python",
   "name": "python3"
  },
  "language_info": {
   "codemirror_mode": {
    "name": "ipython",
    "version": 3
   },
   "file_extension": ".py",
   "mimetype": "text/x-python",
   "name": "python",
   "nbconvert_exporter": "python",
   "pygments_lexer": "ipython3",
   "version": "3.11.7"
  }
 },
 "nbformat": 4,
 "nbformat_minor": 2
}
